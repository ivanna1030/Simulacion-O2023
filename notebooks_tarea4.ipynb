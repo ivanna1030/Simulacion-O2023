{
 "cells": [
  {
   "cell_type": "markdown",
   "metadata": {},
   "source": [
    "Ivanna Herrera Ibarra 744614                                                                                            \n",
    "04/09/23\n",
    "# Tarea 4 - Programación lineal"
   ]
  },
  {
   "cell_type": "markdown",
   "metadata": {},
   "source": [
    "### Diseño de la Dieta Óptima\n",
    "\n",
    "Se quiere producir comida para gatos de la manera más barata, no obstante se debe también asegurar que se cumplan los datos requeridos de analisis nutricional. Por lo que se quiere variar la cantidad de cada ingrediente para cumplir con los estandares nutricionales. Los requisitos que se tienen es que en $100$ gramos, se deben tener **por lo menos** $8$ gramos de proteína y $6$ gramos de grasa. Así mismo, no se debe tener más de $2$ gramos de fibra y $0.4$ gramos de sal.  \n",
    "\n",
    "Los datos nutricionales se pueden obtener de la siguiente tabla:\n",
    "\n",
    "Ingrediente|Proteína|Grasa|Fibra|Sal\n",
    ":----|----|----|----|----\n",
    "Pollo|  10.0%|08.0%|00.1%|00.2%\n",
    "Carne|  20.0%|10.0%|00.5%|00.5%\n",
    "Cordero|15.0%|11.0%|00.5%|00.7%\n",
    "Arroz|  00.0%|01.0%|10.0%|00.2%\n",
    "Trigo|  04.0%|01.0%|15.0%|00.8%\n",
    "Gel|    00.0%|00.0%|00.0%|00.0%\n",
    "\n",
    "Los costos de cada producto son:\n",
    "\n",
    "Ingrediente|Costo por gramo\n",
    ":----|----\n",
    "Pollo|$\\$$0.013\n",
    "Carne|$\\$$0.008\n",
    "Cordero|$\\$$0.010\n",
    "Arroz|$\\$$0.002\n",
    "Trigo|$\\$$0.005\n",
    "Gel|$\\$$0.001    \n",
    "\n",
    "Lo que se busca optimizar en este caso es la cantidad de productos que se debe utilizar en la comida de gato, minimizando el costo total. Para simplificar la notación use las siguientes variables: \n",
    "\n",
    "+ $x_1:$ Gramos de pollo  \n",
    "+ $x_2:$ Gramos de carne  \n",
    "+ $x_3:$ Gramos de cordero  \n",
    "+ $x_4:$ Gramos de arroz  \n",
    "+ $x_5:$ Gramos de trigo  \n",
    "+ $x_6:$ Gramos de gel\n",
    "\n",
    "La tarea consiste en plantear el problema de programación lineal que permita satisfacer las necesidades alimenticias del gato al tiempo que minimice el costo total y resolverlo con `linprog`."
   ]
  },
  {
   "cell_type": "markdown",
   "metadata": {},
   "source": [
    "Sean:\n",
    "- $ x_1 $: la cantidad de gramos de pollo\n",
    "- $ x_2 $: la cantidad de gramos de carne\n",
    "- $ x_3 $: la cantidad de gramos de cordero\n",
    "- $ x_4 $: la cantidad de gramos de arroz\n",
    "- $ x_5 $: la cantidad de gramos de trigo\n",
    "- $ x_6 $: la cantidad de gramos de gel\n",
    "\n",
    "1. Crieterio de optimización:\n",
    "- Minimizar\n",
    "2. Variables sobre las cuales tengo control:\n",
    "- $ x_1 $ , $ x_2 $ , $ x_3 $ , $ x_4 $ , $ x_5 $ y $ x_6 $\n",
    "3. Función de costo\n",
    "$$ min_(x_1,x_2,x_3,x_4,x_5,x_6)  0.013x_1 + 0.008x_2 + 0.010x_3 + 0.002x_4 + 0.005x_5 + 0.001x_6 $$\n",
    "4. Restricciones\n",
    "    - Por cada 100 gramos:\n",
    "        - Mínimo 8g de proteína\n",
    "        - Mínimo 6g de grasa\n",
    "        - Máximo 2g de fibra\n",
    "        - Máximo 0.4g de sal\n",
    "\n",
    "$$ min_(x_1,x_2,x_3,x_4,x_5,x_6)  0.013x_1 + 0.008x_2 + 0.010x_3 + 0.002x_4 + 0.005x_5 + 0.001x_6 $$\n",
    "            s.t\n",
    "$$ 1x_1 + 1x_2 + 1x_3 + 1x_4 + 1x_5 + 1x_6 = 100 $$\n",
    "$$ 0.1x_1 + 0.2x_2 + 0.15x_3 + 0.00x_4 + 0.04x_5 + 0.00x_6 \\geq 8 $$\n",
    "$$ 0.08x_1 + 0.1x_2 + 0.11x_3 + 0.01x_4 + 0.01x_5 + 0.00x_6 \\geq 6 $$\n",
    "$$ 0.001x_1 + 0.005x_2 + 0.005x_3 + 0.1x_4 + 0.15x_5 + 0.00x_6 \\leq 2 $$\n",
    "$$ 0.002x_1 + 0.005x_2 + 0.007x_3 + 0.002x_4 + 0.008x_5 + 0.00x_6 \\leq 0.4 $$"
   ]
  },
  {
   "cell_type": "code",
   "execution_count": 19,
   "metadata": {},
   "outputs": [
    {
     "data": {
      "text/plain": [
       "        message: Optimization terminated successfully. (HiGHS Status 7: Optimal)\n",
       "        success: True\n",
       "         status: 0\n",
       "            fun: 0.52\n",
       "              x: [ 0.000e+00  6.000e+01  0.000e+00  0.000e+00  0.000e+00\n",
       "                   4.000e+01]\n",
       "            nit: 2\n",
       "          lower:  residual: [ 0.000e+00  6.000e+01  0.000e+00  0.000e+00\n",
       "                              0.000e+00  4.000e+01]\n",
       "                 marginals: [ 6.400e-03  0.000e+00  1.300e-03  3.000e-04\n",
       "                              3.300e-03  0.000e+00]\n",
       "          upper:  residual: [       inf        inf        inf        inf\n",
       "                                    inf        inf]\n",
       "                 marginals: [ 0.000e+00  0.000e+00  0.000e+00  0.000e+00\n",
       "                              0.000e+00  0.000e+00]\n",
       "          eqlin:  residual: [ 0.000e+00]\n",
       "                 marginals: [ 1.000e-03]\n",
       "        ineqlin:  residual: [ 4.000e+00  0.000e+00  1.700e+00  1.000e-01]\n",
       "                 marginals: [-0.000e+00 -7.000e-02 -0.000e+00 -0.000e+00]\n",
       " mip_node_count: 0\n",
       " mip_dual_bound: 0.0\n",
       "        mip_gap: 0.0"
      ]
     },
     "execution_count": 19,
     "metadata": {},
     "output_type": "execute_result"
    }
   ],
   "source": [
    "import numpy as np\n",
    "import scipy.optimize as opt\n",
    "\n",
    "c = np.array([0.013,\n",
    "             0.008,\n",
    "             0.010,\n",
    "             0.002,\n",
    "             0.005,\n",
    "             0.001])\n",
    "\n",
    "Aub = np.array([\n",
    "    [-0.1, -0.2, -0.15, 0.00, -0.04, 0.00],\n",
    "    [-0.08, -0.1, -0.11, -0.01, -0.01, 0.00],\n",
    "    [0.001, 0.005, 0.005, 0.1, 0.15, 0.00],\n",
    "    [0.002, 0.005, 0.007, 0.002, 0.008, 0.00]\n",
    "])\n",
    "\n",
    "bub = np.array([-8,\n",
    "               -6,\n",
    "               2,\n",
    "               0.4])\n",
    "\n",
    "Aeq = np.array([\n",
    "    [1, 1, 1, 1, 1, 1]\n",
    "])\n",
    "\n",
    "beq = np.array([100])\n",
    "\n",
    "sol = opt.linprog(c, Aub, bub, Aeq, beq)\n",
    "sol"
   ]
  },
  {
   "cell_type": "code",
   "execution_count": 20,
   "metadata": {},
   "outputs": [
    {
     "data": {
      "text/plain": [
       "array([ 0., 60.,  0.,  0.,  0., 40.])"
      ]
     },
     "execution_count": 20,
     "metadata": {},
     "output_type": "execute_result"
    }
   ],
   "source": [
    "sol.x"
   ]
  },
  {
   "cell_type": "code",
   "execution_count": 21,
   "metadata": {},
   "outputs": [
    {
     "data": {
      "text/plain": [
       "0.52"
      ]
     },
     "execution_count": 21,
     "metadata": {},
     "output_type": "execute_result"
    }
   ],
   "source": [
    "sol.fun"
   ]
  },
  {
   "cell_type": "markdown",
   "metadata": {},
   "source": [
    "La cantidad de productos que se debe utilizar en la comida de gato para satisfacer sus necesidades alimenticias son 60 gramos de carne y 40 gramos de gel, obteniendo un costo total de $0.52 por cada 100 gramos."
   ]
  },
  {
   "cell_type": "markdown",
   "metadata": {},
   "source": [
    "### Problema de distribución de energía eléctrica\n",
    "\n",
    "La Comisión Federal de Electricidad **(CFE)** dispone de cuatro plantas de generación para satisfacer la demanda diaria eléctrica en cuatro ciudades, Guadalajara, León y Morelia. Las plantas $1$, $2$ y $3$ pueden satisfacer $80$, $40$ y $60$ millones de KW al día respectivamente. Las necesidades de las ciudades de Guadalajara, León y Morelia son de $70$, $40$ y $70$ millones de Kw al día respectivamente. \n",
    "\n",
    "\n",
    "Los costos asociados al envío de suministro energético por cada millón de Kw entre cada planta y cada ciudad son los registrados en la siguiente tabla. \n",
    "\n",
    "-|Guadalajara|León|Morelia\n",
    ":----|----|----|----\n",
    "Planta 1|5|2|7\n",
    "Planta 2|3|6|6\n",
    "Planta 3|6|1|2\n",
    "\n",
    "Y por último, las restricciones del problema, van a estar dadas por las capacidades de oferta y demanda de cada planta (en millones de KW) y cada ciudad.\n",
    "\n",
    "Para simplificar la notación use las siguientes variables:\n",
    "\n",
    "+ $x_1$: Kw (en millones) distribuidos de la Planta 1 a Guadalajara\n",
    "+ $x_2$: Kw (en millones) distribuidos de la Planta 1 a León\n",
    "+ $x_3$: Kw (en millones) distribuidos de la Planta 1 a Morelia\n",
    "+ $x_4$: Kw (en millones) distribuidos de la Planta 2 a Guadalajara\n",
    "+ $x_5$: Kw (en millones) distribuidos de la Planta 2 a León\n",
    "+ $x_6$: Kw (en millones) distribuidos de la Planta 2 a Morelia\n",
    "+ $x_7$: Kw (en millones) distribuidos de la Planta 3 a Guadalajara\n",
    "+ $x_8$: Kw (en millones) distribuidos de la Planta 3 a León\n",
    "+ $x_9$: Kw (en millones) distribuidos de la Planta 3 a Morelia\n",
    "\n",
    "La tarea consiste en plantear el problema de programación lineal que permita satisfacer las necesidades de todas las ciudades al tiempo que minimice los costos asociados a la distribución y resolverlo con `linprog`."
   ]
  },
  {
   "cell_type": "markdown",
   "metadata": {},
   "source": [
    "Sean:\n",
    "- $ x_1 $: Kw (en millones) distribuidos de la Planta 1 a Guadalajara\n",
    "- $ x_2 $: Kw (en millones) distribuidos de la Planta 1 a León\n",
    "- $ x_3 $: Kw (en millones) distribuidos de la Planta 1 a Morelia\n",
    "- $ x_4 $: Kw (en millones) distribuidos de la Planta 2 a Guadalajara\n",
    "- $ x_5 $: Kw (en millones) distribuidos de la Planta 2 a León\n",
    "- $ x_6 $: Kw (en millones) distribuidos de la Planta 2 a Morelia\n",
    "- $ x_7 $: Kw (en millones) distribuidos de la Planta 3 a Guadalajara\n",
    "- $ x_8 $: Kw (en millones) distribuidos de la Planta 3 a León\n",
    "- $ x_9 $: Kw (en millones) distribuidos de la Planta 3 a Morelia\n",
    "\n",
    "1. Crieterio de optimización:\n",
    "- Minimizar\n",
    "2. Variables sobre las cuales tengo control:\n",
    "- $ x_1 $ , $ x_2 $ , $ x_3 $ , $ x_4 $ , $ x_5 $ , $ x_6 $ , $ x_7 $ , $ x_8 $ y $ x_9 $\n",
    "3. Función de costo\n",
    "$$ min_(x_1,x_2,x_3,x_4,x_5,x_6,x_7,x_8,x_9)  5x_1 + 2x_2 + 7x_3 + 3x_4 + 6x_5 + 6x_6 + 6x_7 + 1x_8 + 2x_9 $$\n",
    "4. Restricciones\n",
    "    - La planta 1 satisface 80 millones de KW al día.\n",
    "    - La planta 2 satisface 40 millones de KW al día.\n",
    "    - La planta 3 satisface 60 millones de KW al día.\n",
    "    - Guadalajara necesita 70 millones de KW al día.\n",
    "    - León necesita 40 millones de KW al día.\n",
    "    - Morelia necesita 70 millones de KW al día.\n",
    "\n",
    "$$ min_(x_1,x_2,x_3,x_4,x_5,x_6,x_7,x_8,x_9)  5x_1 + 2x_2 + 7x_3 + 3x_4 + 6x_5 + 6x_6 + 6x_7 + 1x_8 + 2x_9 $$\n",
    "            s.t\n",
    "$$ x_1 + x_2 + x_3 \\leq 80 $$\n",
    "$$ x_4 + x_5 + x_6 \\leq 40 $$\n",
    "$$ x_7 + x_8 + x_9 \\leq 60 $$\n",
    "$$ x_1 + x_4 + x_7 \\geq 70 $$\n",
    "$$ x_2 + x_5 + x_8 \\geq 40 $$\n",
    "$$ x_3 + x_6 + x_9 \\geq 70 $$"
   ]
  },
  {
   "cell_type": "code",
   "execution_count": 22,
   "metadata": {},
   "outputs": [
    {
     "data": {
      "text/plain": [
       "        message: Optimization terminated successfully. (HiGHS Status 7: Optimal)\n",
       "        success: True\n",
       "         status: 0\n",
       "            fun: 540.0\n",
       "              x: [ 3.000e+01  4.000e+01  1.000e+01  4.000e+01  0.000e+00\n",
       "                   0.000e+00  0.000e+00  0.000e+00  6.000e+01]\n",
       "            nit: 6\n",
       "          lower:  residual: [ 3.000e+01  4.000e+01  1.000e+01  4.000e+01\n",
       "                              0.000e+00  0.000e+00  0.000e+00  0.000e+00\n",
       "                              6.000e+01]\n",
       "                 marginals: [ 0.000e+00  0.000e+00  0.000e+00  0.000e+00\n",
       "                              6.000e+00  1.000e+00  6.000e+00  4.000e+00\n",
       "                              0.000e+00]\n",
       "          upper:  residual: [       inf        inf        inf        inf\n",
       "                                    inf        inf        inf        inf\n",
       "                                    inf]\n",
       "                 marginals: [ 0.000e+00  0.000e+00  0.000e+00  0.000e+00\n",
       "                              0.000e+00  0.000e+00  0.000e+00  0.000e+00\n",
       "                              0.000e+00]\n",
       "          eqlin:  residual: []\n",
       "                 marginals: []\n",
       "        ineqlin:  residual: [ 0.000e+00  0.000e+00  0.000e+00  0.000e+00\n",
       "                              0.000e+00  0.000e+00]\n",
       "                 marginals: [-7.000e+00 -5.000e+00 -2.000e+00 -2.000e+00\n",
       "                             -5.000e+00 -0.000e+00]\n",
       " mip_node_count: 0\n",
       " mip_dual_bound: 0.0\n",
       "        mip_gap: 0.0"
      ]
     },
     "execution_count": 22,
     "metadata": {},
     "output_type": "execute_result"
    }
   ],
   "source": [
    "import numpy as np\n",
    "import scipy.optimize as opt\n",
    "\n",
    "c = np.array([5,\n",
    "             2,\n",
    "             7,\n",
    "             3,\n",
    "             6,\n",
    "             6,\n",
    "             6,\n",
    "             1,\n",
    "             2])\n",
    "\n",
    "Aub = np.array([\n",
    "    [-1, -1, -1, 0, 0, 0, 0, 0, 0],\n",
    "    [0, 0, 0, -1, -1, -1, 0, 0, 0],\n",
    "    [0, 0, 0, 0, 0, 0, -1, -1, -1],\n",
    "    [1, 0, 0, 1, 0, 0, 1, 0, 0],\n",
    "    [0, 1, 0, 0, 1, 0, 0, 1, 0],\n",
    "    [0, 0, 1, 0, 0, 1, 0, 0, 1]\n",
    "])\n",
    "\n",
    "bub = np.array([-80,\n",
    "               -40,\n",
    "               -60,\n",
    "               70,\n",
    "               40,\n",
    "               70])\n",
    "\n",
    "sol = opt.linprog(c, Aub, bub)\n",
    "sol"
   ]
  },
  {
   "cell_type": "code",
   "execution_count": 23,
   "metadata": {},
   "outputs": [
    {
     "data": {
      "text/plain": [
       "array([30., 40., 10., 40.,  0.,  0.,  0.,  0., 60.])"
      ]
     },
     "execution_count": 23,
     "metadata": {},
     "output_type": "execute_result"
    }
   ],
   "source": [
    "sol.x"
   ]
  },
  {
   "cell_type": "code",
   "execution_count": 24,
   "metadata": {},
   "outputs": [
    {
     "data": {
      "text/plain": [
       "540.0"
      ]
     },
     "execution_count": 24,
     "metadata": {},
     "output_type": "execute_result"
    }
   ],
   "source": [
    "sol.fun"
   ]
  },
  {
   "cell_type": "markdown",
   "metadata": {},
   "source": [
    "La cantidad de KW en millones que deben ser distribuidos de cada planta a cada ciudad para satisfacer sus necesidades son:\n",
    "- Planta 1 a Guadalajara: 30\n",
    "- Planta 1 a León: 40\n",
    "- Planta 1 a Morelia: 10\n",
    "- Planta 2 a Guadalajara: 40\n",
    "- Planta 3 a Morelia: 60\n",
    "\n",
    "Obteniendo un costo total de distribución de $540."
   ]
  }
 ],
 "metadata": {
  "kernelspec": {
   "display_name": "Python 3 (ipykernel)",
   "language": "python",
   "name": "python3"
  },
  "language_info": {
   "codemirror_mode": {
    "name": "ipython",
    "version": 3
   },
   "file_extension": ".py",
   "mimetype": "text/x-python",
   "name": "python",
   "nbconvert_exporter": "python",
   "pygments_lexer": "ipython3",
   "version": "3.11.4"
  }
 },
 "nbformat": 4,
 "nbformat_minor": 2
}
